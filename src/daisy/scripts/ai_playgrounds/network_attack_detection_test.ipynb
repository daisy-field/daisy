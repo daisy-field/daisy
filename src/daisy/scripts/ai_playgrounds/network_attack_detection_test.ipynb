{
 "cells": [
  {
   "cell_type": "code",
   "execution_count": 9,
   "metadata": {
    "ExecuteTime": {
     "end_time": "2024-05-15T10:05:57.185257800Z",
     "start_time": "2024-05-15T10:05:57.163740700Z"
    }
   },
   "outputs": [],
   "source": [
    "import sys\n",
    "\n",
    "import argparse\n",
    "import logging\n",
    "import pathlib\n",
    "\n",
    "from daisy.data_sources import DataSource\n",
    "from daisy.data_sources import PcapHandler,CohdaProcessor, march23_events"
   ]
  },
  {
   "cell_type": "code",
   "execution_count": 10,
   "metadata": {
    "collapsed": false,
    "jupyter": {
     "outputs_hidden": false
    },
    "ExecuteTime": {
     "end_time": "2024-05-15T10:05:57.221743600Z",
     "start_time": "2024-05-15T10:05:57.185759700Z"
    }
   },
   "outputs": [],
   "source": [
    "def _parse_args() -> argparse.Namespace:\n",
    "    \"\"\"Creates a parser for the client arguments and parses them.\n",
    "\n",
    "    :return: Parsed arguments.\n",
    "    \"\"\"\n",
    "    parser = argparse.ArgumentParser(\n",
    "        description=__doc__, formatter_class=argparse.ArgumentDefaultsHelpFormatter\n",
    "    )\n",
    "\n",
    "    parser.add_argument(\n",
    "        \"--debug\", type=bool, default=False, metavar=\"\", help=\"Show debug outputs\"\n",
    "    )\n",
    "    parser.add_argument(\n",
    "        \"--clientId\",\n",
    "        type=int,\n",
    "        choices=[2, 5],\n",
    "        required=True,\n",
    "        help=\"ID of client (decides which data to draw from set)\",\n",
    "    )\n",
    "    parser.add_argument(\n",
    "        \"--pcapBasePath\",\n",
    "        type=pathlib.Path,\n",
    "        default=\"/mnt/h/daisy_datasets/v2x_2023-03-06\",\n",
    "        metavar=\"\",\n",
    "        help=\"Path to the march23 v2x dataset directory (root)\",\n",
    "    )\n",
    "\n",
    "    server_options = parser.add_argument_group(\"Server Options\")\n",
    "    server_options.add_argument(\n",
    "        \"--modelAggrServ\",\n",
    "        default=\"0.0.0.0\",\n",
    "        metavar=\"\",\n",
    "        help=\"IP or hostname of model aggregation server\",\n",
    "    )\n",
    "    server_options.add_argument(\n",
    "        \"--modelAggrServPort\",\n",
    "        type=int,\n",
    "        default=8000,\n",
    "        choices=range(1, 65535),\n",
    "        metavar=\"\",\n",
    "        help=\"Port of model aggregation server\",\n",
    "    )\n",
    "    server_options.add_argument(\n",
    "        \"--evalServ\",\n",
    "        default=\"0.0.0.0\",\n",
    "        metavar=\"\",\n",
    "        help=\"IP or hostname of evaluation server\",\n",
    "    )\n",
    "    server_options.add_argument(\n",
    "        \"--evalServPort\",\n",
    "        type=int,\n",
    "        default=8001,\n",
    "        choices=range(1, 65535),\n",
    "        metavar=\"\",\n",
    "        help=\"Port of evaluation server\",\n",
    "    )\n",
    "    server_options.add_argument(\n",
    "        \"--aggrServ\",\n",
    "        default=\"0.0.0.0\",\n",
    "        metavar=\"\",\n",
    "        help=\"IP or hostname of aggregation server\",\n",
    "    )\n",
    "    server_options.add_argument(\n",
    "        \"--aggrServPort\",\n",
    "        type=int,\n",
    "        default=8002,\n",
    "        choices=range(1, 65535),\n",
    "        metavar=\"\",\n",
    "        help=\"Port of aggregation server\",\n",
    "    )\n",
    "\n",
    "    client_options = parser.add_argument_group(\"Client Options\")\n",
    "    client_options.add_argument(\n",
    "        \"--batchSize\",\n",
    "        type=int,\n",
    "        default=32,\n",
    "        metavar=\"\",\n",
    "        help=\"Batch size during processing of data \"\n",
    "        \"(mini-batches are multiples of that argument)\",\n",
    "    )\n",
    "    client_options.add_argument(\n",
    "        \"--updateInterval\",\n",
    "        type=int,\n",
    "        default=None,\n",
    "        metavar=\"\",\n",
    "        help=\"Federated updating interval, defined by time (s)\",\n",
    "    )\n",
    "\n",
    "    return parser.parse_args()"
   ]
  },
  {
   "cell_type": "code",
   "execution_count": 11,
   "metadata": {
    "collapsed": false,
    "jupyter": {
     "outputs_hidden": false
    },
    "ExecuteTime": {
     "end_time": "2024-05-15T10:05:57.235245Z",
     "start_time": "2024-05-15T10:05:57.193844Z"
    }
   },
   "outputs": [],
   "source": [
    "sys.argv = [\"script.py\", \"--clientId=2\"]"
   ]
  },
  {
   "cell_type": "code",
   "execution_count": 12,
   "metadata": {
    "collapsed": false,
    "jupyter": {
     "outputs_hidden": false
    },
    "ExecuteTime": {
     "end_time": "2024-05-15T10:05:57.254742800Z",
     "start_time": "2024-05-15T10:05:57.236749200Z"
    }
   },
   "outputs": [],
   "source": [
    "args = _parse_args()\n",
    "if args.debug:\n",
    "    logging.basicConfig(\n",
    "        format=\"%(asctime)s %(levelname)-8s %(name)-10s %(message)s\",\n",
    "        datefmt=\"%Y-%m-%d %H:%M:%S\",\n",
    "        level=logging.DEBUG,\n",
    "    )\n",
    "else:\n",
    "    logging.basicConfig(\n",
    "        format=\"%(asctime)s %(levelname)-8s %(name)-10s %(message)s\",\n",
    "        datefmt=\"%Y-%m-%d %H:%M:%S\",\n",
    "        level=logging.INFO,\n",
    "    )\n",
    "m_aggr_serv = (args.modelAggrServ, args.modelAggrServPort)\n",
    "eval_serv = None\n",
    "if args.evalServ != \"0.0.0.0\":\n",
    "    eval_serv = (args.evalServ, args.evalServPort)\n",
    "aggr_serv = None\n",
    "if args.aggrServ != \"0.0.0.0\":\n",
    "    aggr_serv = (args.aggrServ, args.aggrServPort)"
   ]
  },
  {
   "cell_type": "code",
   "execution_count": 13,
   "metadata": {
    "collapsed": false,
    "jupyter": {
     "outputs_hidden": false
    },
    "ExecuteTime": {
     "end_time": "2024-05-15T10:05:57.309258400Z",
     "start_time": "2024-05-15T10:05:57.251743600Z"
    }
   },
   "outputs": [
    {
     "name": "stdout",
     "output_type": "stream",
     "text": [
      "total 16\n",
      "drwxr-xr-x  4 root  root  4096 May 15 11:28 .\n",
      "drwxr-xr-x 19 root  root  4096 May 13 10:02 ..\n",
      "drwxr-xr-x  4 root  root  4096 May 15 11:29 daisy_datasets\n",
      "drwxr-x--- 11 simon simon 4096 May  8 15:29 simon\n",
      "\n",
      "Der Ordner existiert.\n",
      "Unterverzeichnisse:\n",
      "diginet-cohda-box-dsrc5\n",
      "diginet-cohda-box-dsrc2\n"
     ]
    }
   ],
   "source": [
    "import subprocess\n",
    "\n",
    "# Der Befehl, den du ausführen möchtest\n",
    "command = \"ls -a -l /home/\"\n",
    "\n",
    "# Die Ausgabe des Befehls abrufen\n",
    "output = subprocess.check_output(command, shell=True)\n",
    "\n",
    "# Die Ausgabe in eine Zeichenkette umwandeln und anzeigen\n",
    "print(output.decode(\"utf-8\"))\n",
    "\n",
    "import os\n",
    "\n",
    "# Pfad zum Ordner, den du überprüfen möchtest\n",
    "ordner_pfad = '/home/daisy_datasets/v2x_2023-03-06'\n",
    "\n",
    "# Überprüfe, ob der Ordner existiert\n",
    "if os.path.exists(ordner_pfad):\n",
    "    print(\"Der Ordner existiert.\")\n",
    "\n",
    "    # Zeige alle Unterverzeichnisse an\n",
    "    unterverzeichnisse = [verzeichnis for verzeichnis in os.listdir(ordner_pfad) if os.path.isdir(os.path.join(ordner_pfad, verzeichnis))]\n",
    "    print(\"Unterverzeichnisse:\")\n",
    "    for verzeichnis in unterverzeichnisse:\n",
    "        print(verzeichnis)\n",
    "else:\n",
    "    print(\"Der Ordner existiert nicht.\")"
   ]
  },
  {
   "cell_type": "code",
   "execution_count": 14,
   "metadata": {
    "collapsed": false,
    "jupyter": {
     "outputs_hidden": false
    },
    "ExecuteTime": {
     "end_time": "2024-05-15T10:05:57.348259300Z",
     "start_time": "2024-05-15T10:05:57.294252600Z"
    }
   },
   "outputs": [
    {
     "name": "stderr",
     "output_type": "stream",
     "text": [
      "2024-05-15 12:05:57 INFO     root       /home/daisy_datasets/v2x_2023-03-06/diginet-cohda-box-dsrc2\n",
      "2024-05-15 12:05:57 INFO     root       /mnt/h/daisy/src/daisy/scripts/ai_playgrounds\n",
      "2024-05-15 12:05:57 INFO     root       /mnt/h/daisy/src/daisy/scripts/ai_playgrounds\n",
      "2024-05-15 12:05:57 INFO     root       Initializing pcap file handler...\n",
      "2024-05-15 12:05:57 INFO     root       Pcap file handler initialized.\n",
      "2024-05-15 12:05:57 INFO     root       Initializing data source...\n",
      "2024-05-15 12:05:57 INFO     root       Data source initialized.\n"
     ]
    }
   ],
   "source": [
    "logging.info(f\"/home/daisy_datasets/v2x_2023-03-06/diginet-cohda-box-dsrc{args.clientId}\")\n",
    "\n",
    "import os\n",
    "cwd = os.getcwd()\n",
    "cw2 = os.path.abspath(\"\")\n",
    "\n",
    "logging.info(cwd)\n",
    "logging.info(cw2)\n",
    "\n",
    "#handler = PcapHandler(f\"{args.pcapBasePath}/diginet-cohda-box-dsrc{args.clientId}/diginet-cohda-box-dsrc2-capture.pcap\")\n",
    "handler = PcapHandler(f\"/home/daisy_datasets/v2x_2023-03-06/diginet-cohda-box-dsrc{args.clientId}\")\n",
    "\n",
    "processor = CohdaProcessor(client_id=args.clientId, events=march23_events)\n",
    "data_source = DataSource(source_handler=handler, data_processor=processor)"
   ]
  },
  {
   "cell_type": "code",
   "execution_count": 15,
   "metadata": {
    "collapsed": false,
    "jupyter": {
     "outputs_hidden": false
    },
    "ExecuteTime": {
     "end_time": "2024-05-15T10:05:57.357260200Z",
     "start_time": "2024-05-15T10:05:57.309758600Z"
    }
   },
   "outputs": [
    {
     "name": "stderr",
     "output_type": "stream",
     "text": [
      "2024-05-15 12:05:57 INFO     root       Starting data source...\n",
      "2024-05-15 12:05:57 INFO     root       Opening pcap file source...\n",
      "2024-05-15 12:05:57 INFO     root       Pcap file source opened.\n",
      "2024-05-15 12:05:57 INFO     root       Data source started.\n"
     ]
    }
   ],
   "source": [
    "data_source.open()"
   ]
  },
  {
   "cell_type": "code",
   "execution_count": 16,
   "outputs": [
    {
     "ename": "AttributeError",
     "evalue": "'DataSource' object has no attribute 'packets_from_tshark'",
     "output_type": "error",
     "traceback": [
      "\u001B[0;31m---------------------------------------------------------------------------\u001B[0m",
      "\u001B[0;31mAttributeError\u001B[0m                            Traceback (most recent call last)",
      "Cell \u001B[0;32mIn[16], line 3\u001B[0m\n\u001B[1;32m      1\u001B[0m \u001B[38;5;28;01mdef\u001B[39;00m \u001B[38;5;21mprint_pkt\u001B[39m(pkt):\n\u001B[1;32m      2\u001B[0m     \u001B[38;5;28mprint\u001B[39m(pkt)\n\u001B[0;32m----> 3\u001B[0m \u001B[38;5;28;01mawait\u001B[39;00m \u001B[43mdata_source\u001B[49m\u001B[38;5;241;43m.\u001B[39;49m\u001B[43mpackets_from_tshark\u001B[49m(print_pkt)\n",
      "\u001B[0;31mAttributeError\u001B[0m: 'DataSource' object has no attribute 'packets_from_tshark'"
     ]
    }
   ],
   "source": [
    "def print_pkt(pkt):\n",
    "    print(pkt)\n",
    "await data_source.packets_from_tshark(print_pkt)"
   ],
   "metadata": {
    "collapsed": false,
    "ExecuteTime": {
     "end_time": "2024-05-15T10:05:57.418926200Z",
     "start_time": "2024-05-15T10:05:57.351259600Z"
    }
   }
  },
  {
   "cell_type": "code",
   "execution_count": null,
   "metadata": {
    "collapsed": false,
    "jupyter": {
     "outputs_hidden": false
    }
   },
   "outputs": [],
   "source": [
    "for sample in data_source:\n",
    "    logging.info(\"A\")\n",
    "    logging.info(sample)\n",
    "    logging.info(\"B\")\n",
    "    break"
   ]
  },
  {
   "cell_type": "code",
   "execution_count": null,
   "metadata": {
    "collapsed": false,
    "jupyter": {
     "outputs_hidden": false
    }
   },
   "outputs": [],
   "source": []
  }
 ],
 "metadata": {
  "kernelspec": {
   "display_name": "Python 3 (ipykernel)",
   "language": "python",
   "name": "python3"
  },
  "language_info": {
   "codemirror_mode": {
    "name": "ipython",
    "version": 3
   },
   "file_extension": ".py",
   "mimetype": "text/x-python",
   "name": "python",
   "nbconvert_exporter": "python",
   "pygments_lexer": "ipython3",
   "version": "3.11.9"
  }
 },
 "nbformat": 4,
 "nbformat_minor": 4
}
